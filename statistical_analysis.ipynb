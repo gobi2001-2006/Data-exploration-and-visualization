{
  "nbformat": 4,
  "nbformat_minor": 0,
  "metadata": {
    "colab": {
      "provenance": [],
      "authorship_tag": "ABX9TyMpg/FJCJQ+r1aqMO6mYAZH",
      "include_colab_link": true
    },
    "kernelspec": {
      "name": "python3",
      "display_name": "Python 3"
    },
    "language_info": {
      "name": "python"
    }
  },
  "cells": [
    {
      "cell_type": "markdown",
      "metadata": {
        "id": "view-in-github",
        "colab_type": "text"
      },
      "source": [
        "<a href=\"https://colab.research.google.com/github/gobi2001-2006/Data-exploration-and-visualization/blob/main/statistical_analysis.ipynb\" target=\"_parent\"><img src=\"https://colab.research.google.com/assets/colab-badge.svg\" alt=\"Open In Colab\"/></a>"
      ]
    },
    {
      "cell_type": "markdown",
      "source": [],
      "metadata": {
        "id": "K1TRhl1_W3aa"
      }
    },
    {
      "cell_type": "code",
      "source": [
        "import pandas as pd\n",
        "data = pd.read_csv(\"iris_dataset.csv\")\n",
        "data.head()\n"
      ],
      "metadata": {
        "colab": {
          "base_uri": "https://localhost:8080/",
          "height": 310
        },
        "id": "zC_tg-I_WZoA",
        "outputId": "f0906203-e0e3-447f-a216-458724ebe6c4"
      },
      "execution_count": null,
      "outputs": [
        {
          "output_type": "execute_result",
          "data": {
            "text/plain": [
              "   sepal length (cm)  sepal width (cm)  petal length (cm)  petal width (cm)  \\\n",
              "0                5.1               3.5                1.4               0.2   \n",
              "1                4.9               3.0                1.4               0.2   \n",
              "2                4.7               3.2                1.3               0.2   \n",
              "3                4.6               3.1                1.5               0.2   \n",
              "4                5.0               3.6                1.4               0.2   \n",
              "\n",
              "        target  \n",
              "0  Iris-setosa  \n",
              "1  Iris-setosa  \n",
              "2  Iris-setosa  \n",
              "3  Iris-setosa  \n",
              "4  Iris-setosa  "
            ],
            "text/html": [
              "\n",
              "  <div id=\"df-d7e70c3e-229f-4c79-a16f-78975afa553a\" class=\"colab-df-container\">\n",
              "    <div>\n",
              "<style scoped>\n",
              "    .dataframe tbody tr th:only-of-type {\n",
              "        vertical-align: middle;\n",
              "    }\n",
              "\n",
              "    .dataframe tbody tr th {\n",
              "        vertical-align: top;\n",
              "    }\n",
              "\n",
              "    .dataframe thead th {\n",
              "        text-align: right;\n",
              "    }\n",
              "</style>\n",
              "<table border=\"1\" class=\"dataframe\">\n",
              "  <thead>\n",
              "    <tr style=\"text-align: right;\">\n",
              "      <th></th>\n",
              "      <th>sepal length (cm)</th>\n",
              "      <th>sepal width (cm)</th>\n",
              "      <th>petal length (cm)</th>\n",
              "      <th>petal width (cm)</th>\n",
              "      <th>target</th>\n",
              "    </tr>\n",
              "  </thead>\n",
              "  <tbody>\n",
              "    <tr>\n",
              "      <th>0</th>\n",
              "      <td>5.1</td>\n",
              "      <td>3.5</td>\n",
              "      <td>1.4</td>\n",
              "      <td>0.2</td>\n",
              "      <td>Iris-setosa</td>\n",
              "    </tr>\n",
              "    <tr>\n",
              "      <th>1</th>\n",
              "      <td>4.9</td>\n",
              "      <td>3.0</td>\n",
              "      <td>1.4</td>\n",
              "      <td>0.2</td>\n",
              "      <td>Iris-setosa</td>\n",
              "    </tr>\n",
              "    <tr>\n",
              "      <th>2</th>\n",
              "      <td>4.7</td>\n",
              "      <td>3.2</td>\n",
              "      <td>1.3</td>\n",
              "      <td>0.2</td>\n",
              "      <td>Iris-setosa</td>\n",
              "    </tr>\n",
              "    <tr>\n",
              "      <th>3</th>\n",
              "      <td>4.6</td>\n",
              "      <td>3.1</td>\n",
              "      <td>1.5</td>\n",
              "      <td>0.2</td>\n",
              "      <td>Iris-setosa</td>\n",
              "    </tr>\n",
              "    <tr>\n",
              "      <th>4</th>\n",
              "      <td>5.0</td>\n",
              "      <td>3.6</td>\n",
              "      <td>1.4</td>\n",
              "      <td>0.2</td>\n",
              "      <td>Iris-setosa</td>\n",
              "    </tr>\n",
              "  </tbody>\n",
              "</table>\n",
              "</div>\n",
              "    <div class=\"colab-df-buttons\">\n",
              "\n",
              "  <div class=\"colab-df-container\">\n",
              "    <button class=\"colab-df-convert\" onclick=\"convertToInteractive('df-d7e70c3e-229f-4c79-a16f-78975afa553a')\"\n",
              "            title=\"Convert this dataframe to an interactive table.\"\n",
              "            style=\"display:none;\">\n",
              "\n",
              "  <svg xmlns=\"http://www.w3.org/2000/svg\" height=\"24px\" viewBox=\"0 -960 960 960\">\n",
              "    <path d=\"M120-120v-720h720v720H120Zm60-500h600v-160H180v160Zm220 220h160v-160H400v160Zm0 220h160v-160H400v160ZM180-400h160v-160H180v160Zm440 0h160v-160H620v160ZM180-180h160v-160H180v160Zm440 0h160v-160H620v160Z\"/>\n",
              "  </svg>\n",
              "    </button>\n",
              "\n",
              "  <style>\n",
              "    .colab-df-container {\n",
              "      display:flex;\n",
              "      gap: 12px;\n",
              "    }\n",
              "\n",
              "    .colab-df-convert {\n",
              "      background-color: #E8F0FE;\n",
              "      border: none;\n",
              "      border-radius: 50%;\n",
              "      cursor: pointer;\n",
              "      display: none;\n",
              "      fill: #1967D2;\n",
              "      height: 32px;\n",
              "      padding: 0 0 0 0;\n",
              "      width: 32px;\n",
              "    }\n",
              "\n",
              "    .colab-df-convert:hover {\n",
              "      background-color: #E2EBFA;\n",
              "      box-shadow: 0px 1px 2px rgba(60, 64, 67, 0.3), 0px 1px 3px 1px rgba(60, 64, 67, 0.15);\n",
              "      fill: #174EA6;\n",
              "    }\n",
              "\n",
              "    .colab-df-buttons div {\n",
              "      margin-bottom: 4px;\n",
              "    }\n",
              "\n",
              "    [theme=dark] .colab-df-convert {\n",
              "      background-color: #3B4455;\n",
              "      fill: #D2E3FC;\n",
              "    }\n",
              "\n",
              "    [theme=dark] .colab-df-convert:hover {\n",
              "      background-color: #434B5C;\n",
              "      box-shadow: 0px 1px 3px 1px rgba(0, 0, 0, 0.15);\n",
              "      filter: drop-shadow(0px 1px 2px rgba(0, 0, 0, 0.3));\n",
              "      fill: #FFFFFF;\n",
              "    }\n",
              "  </style>\n",
              "\n",
              "    <script>\n",
              "      const buttonEl =\n",
              "        document.querySelector('#df-d7e70c3e-229f-4c79-a16f-78975afa553a button.colab-df-convert');\n",
              "      buttonEl.style.display =\n",
              "        google.colab.kernel.accessAllowed ? 'block' : 'none';\n",
              "\n",
              "      async function convertToInteractive(key) {\n",
              "        const element = document.querySelector('#df-d7e70c3e-229f-4c79-a16f-78975afa553a');\n",
              "        const dataTable =\n",
              "          await google.colab.kernel.invokeFunction('convertToInteractive',\n",
              "                                                    [key], {});\n",
              "        if (!dataTable) return;\n",
              "\n",
              "        const docLinkHtml = 'Like what you see? Visit the ' +\n",
              "          '<a target=\"_blank\" href=https://colab.research.google.com/notebooks/data_table.ipynb>data table notebook</a>'\n",
              "          + ' to learn more about interactive tables.';\n",
              "        element.innerHTML = '';\n",
              "        dataTable['output_type'] = 'display_data';\n",
              "        await google.colab.output.renderOutput(dataTable, element);\n",
              "        const docLink = document.createElement('div');\n",
              "        docLink.innerHTML = docLinkHtml;\n",
              "        element.appendChild(docLink);\n",
              "      }\n",
              "    </script>\n",
              "  </div>\n",
              "\n",
              "\n",
              "<div id=\"df-2d591472-77d9-4e2b-9f1c-9356daf465f4\">\n",
              "  <button class=\"colab-df-quickchart\" onclick=\"quickchart('df-2d591472-77d9-4e2b-9f1c-9356daf465f4')\"\n",
              "            title=\"Suggest charts\"\n",
              "            style=\"display:none;\">\n",
              "\n",
              "<svg xmlns=\"http://www.w3.org/2000/svg\" height=\"24px\"viewBox=\"0 0 24 24\"\n",
              "     width=\"24px\">\n",
              "    <g>\n",
              "        <path d=\"M19 3H5c-1.1 0-2 .9-2 2v14c0 1.1.9 2 2 2h14c1.1 0 2-.9 2-2V5c0-1.1-.9-2-2-2zM9 17H7v-7h2v7zm4 0h-2V7h2v10zm4 0h-2v-4h2v4z\"/>\n",
              "    </g>\n",
              "</svg>\n",
              "  </button>\n",
              "\n",
              "<style>\n",
              "  .colab-df-quickchart {\n",
              "      --bg-color: #E8F0FE;\n",
              "      --fill-color: #1967D2;\n",
              "      --hover-bg-color: #E2EBFA;\n",
              "      --hover-fill-color: #174EA6;\n",
              "      --disabled-fill-color: #AAA;\n",
              "      --disabled-bg-color: #DDD;\n",
              "  }\n",
              "\n",
              "  [theme=dark] .colab-df-quickchart {\n",
              "      --bg-color: #3B4455;\n",
              "      --fill-color: #D2E3FC;\n",
              "      --hover-bg-color: #434B5C;\n",
              "      --hover-fill-color: #FFFFFF;\n",
              "      --disabled-bg-color: #3B4455;\n",
              "      --disabled-fill-color: #666;\n",
              "  }\n",
              "\n",
              "  .colab-df-quickchart {\n",
              "    background-color: var(--bg-color);\n",
              "    border: none;\n",
              "    border-radius: 50%;\n",
              "    cursor: pointer;\n",
              "    display: none;\n",
              "    fill: var(--fill-color);\n",
              "    height: 32px;\n",
              "    padding: 0;\n",
              "    width: 32px;\n",
              "  }\n",
              "\n",
              "  .colab-df-quickchart:hover {\n",
              "    background-color: var(--hover-bg-color);\n",
              "    box-shadow: 0 1px 2px rgba(60, 64, 67, 0.3), 0 1px 3px 1px rgba(60, 64, 67, 0.15);\n",
              "    fill: var(--button-hover-fill-color);\n",
              "  }\n",
              "\n",
              "  .colab-df-quickchart-complete:disabled,\n",
              "  .colab-df-quickchart-complete:disabled:hover {\n",
              "    background-color: var(--disabled-bg-color);\n",
              "    fill: var(--disabled-fill-color);\n",
              "    box-shadow: none;\n",
              "  }\n",
              "\n",
              "  .colab-df-spinner {\n",
              "    border: 2px solid var(--fill-color);\n",
              "    border-color: transparent;\n",
              "    border-bottom-color: var(--fill-color);\n",
              "    animation:\n",
              "      spin 1s steps(1) infinite;\n",
              "  }\n",
              "\n",
              "  @keyframes spin {\n",
              "    0% {\n",
              "      border-color: transparent;\n",
              "      border-bottom-color: var(--fill-color);\n",
              "      border-left-color: var(--fill-color);\n",
              "    }\n",
              "    20% {\n",
              "      border-color: transparent;\n",
              "      border-left-color: var(--fill-color);\n",
              "      border-top-color: var(--fill-color);\n",
              "    }\n",
              "    30% {\n",
              "      border-color: transparent;\n",
              "      border-left-color: var(--fill-color);\n",
              "      border-top-color: var(--fill-color);\n",
              "      border-right-color: var(--fill-color);\n",
              "    }\n",
              "    40% {\n",
              "      border-color: transparent;\n",
              "      border-right-color: var(--fill-color);\n",
              "      border-top-color: var(--fill-color);\n",
              "    }\n",
              "    60% {\n",
              "      border-color: transparent;\n",
              "      border-right-color: var(--fill-color);\n",
              "    }\n",
              "    80% {\n",
              "      border-color: transparent;\n",
              "      border-right-color: var(--fill-color);\n",
              "      border-bottom-color: var(--fill-color);\n",
              "    }\n",
              "    90% {\n",
              "      border-color: transparent;\n",
              "      border-bottom-color: var(--fill-color);\n",
              "    }\n",
              "  }\n",
              "</style>\n",
              "\n",
              "  <script>\n",
              "    async function quickchart(key) {\n",
              "      const quickchartButtonEl =\n",
              "        document.querySelector('#' + key + ' button');\n",
              "      quickchartButtonEl.disabled = true;  // To prevent multiple clicks.\n",
              "      quickchartButtonEl.classList.add('colab-df-spinner');\n",
              "      try {\n",
              "        const charts = await google.colab.kernel.invokeFunction(\n",
              "            'suggestCharts', [key], {});\n",
              "      } catch (error) {\n",
              "        console.error('Error during call to suggestCharts:', error);\n",
              "      }\n",
              "      quickchartButtonEl.classList.remove('colab-df-spinner');\n",
              "      quickchartButtonEl.classList.add('colab-df-quickchart-complete');\n",
              "    }\n",
              "    (() => {\n",
              "      let quickchartButtonEl =\n",
              "        document.querySelector('#df-2d591472-77d9-4e2b-9f1c-9356daf465f4 button');\n",
              "      quickchartButtonEl.style.display =\n",
              "        google.colab.kernel.accessAllowed ? 'block' : 'none';\n",
              "    })();\n",
              "  </script>\n",
              "</div>\n",
              "\n",
              "    </div>\n",
              "  </div>\n"
            ],
            "application/vnd.google.colaboratory.intrinsic+json": {
              "type": "dataframe",
              "variable_name": "data",
              "summary": "{\n  \"name\": \"data\",\n  \"rows\": 150,\n  \"fields\": [\n    {\n      \"column\": \"sepal length (cm)\",\n      \"properties\": {\n        \"dtype\": \"number\",\n        \"std\": 0.8280661279778629,\n        \"min\": 4.3,\n        \"max\": 7.9,\n        \"num_unique_values\": 35,\n        \"samples\": [\n          6.2,\n          4.5,\n          5.6\n        ],\n        \"semantic_type\": \"\",\n        \"description\": \"\"\n      }\n    },\n    {\n      \"column\": \"sepal width (cm)\",\n      \"properties\": {\n        \"dtype\": \"number\",\n        \"std\": 0.4335943113621737,\n        \"min\": 2.0,\n        \"max\": 4.4,\n        \"num_unique_values\": 23,\n        \"samples\": [\n          2.3,\n          4.0,\n          3.5\n        ],\n        \"semantic_type\": \"\",\n        \"description\": \"\"\n      }\n    },\n    {\n      \"column\": \"petal length (cm)\",\n      \"properties\": {\n        \"dtype\": \"number\",\n        \"std\": 1.7644204199522617,\n        \"min\": 1.0,\n        \"max\": 6.9,\n        \"num_unique_values\": 43,\n        \"samples\": [\n          6.7,\n          3.8,\n          3.7\n        ],\n        \"semantic_type\": \"\",\n        \"description\": \"\"\n      }\n    },\n    {\n      \"column\": \"petal width (cm)\",\n      \"properties\": {\n        \"dtype\": \"number\",\n        \"std\": 0.7631607417008414,\n        \"min\": 0.1,\n        \"max\": 2.5,\n        \"num_unique_values\": 22,\n        \"samples\": [\n          0.2,\n          1.2,\n          1.3\n        ],\n        \"semantic_type\": \"\",\n        \"description\": \"\"\n      }\n    },\n    {\n      \"column\": \"target\",\n      \"properties\": {\n        \"dtype\": \"category\",\n        \"num_unique_values\": 3,\n        \"samples\": [\n          \"Iris-setosa\",\n          \"Iris-versicolor\",\n          \"Iris-virginica\"\n        ],\n        \"semantic_type\": \"\",\n        \"description\": \"\"\n      }\n    }\n  ]\n}"
            }
          },
          "metadata": {},
          "execution_count": 41
        }
      ]
    },
    {
      "cell_type": "markdown",
      "source": [
        "MEAN"
      ],
      "metadata": {
        "id": "TYjYQ1djXSZm"
      }
    },
    {
      "cell_type": "code",
      "source": [
        "def calculate_mean(numbers):\n",
        "    if not numbers:\n",
        "        raise ValueError(\"The list of numbers cannot be empty.\")\n",
        "\n",
        "    total_sum = 0\n",
        "    count = 0\n",
        "\n",
        "    for num in numbers:\n",
        "        total_sum += num\n",
        "        count += 1\n",
        "\n",
        "    return total_sum / count\n",
        "\n",
        "numbers = [50, 90, 80, 50, 60]\n",
        "mean = calculate_mean(numbers)\n",
        "print(f\"The mean of the numbers {numbers} is: {mean}\")\n"
      ],
      "metadata": {
        "colab": {
          "base_uri": "https://localhost:8080/"
        },
        "id": "B5EIRiI3WZkV",
        "outputId": "91741a65-3b1a-4b04-9545-8f78e5018c44"
      },
      "execution_count": null,
      "outputs": [
        {
          "output_type": "stream",
          "name": "stdout",
          "text": [
            "The mean of the numbers [50, 90, 80, 50, 60] is: 66.0\n"
          ]
        }
      ]
    },
    {
      "cell_type": "markdown",
      "source": [
        "OBSERVED FROM THIS: The function computes the arithmetic mean by summing all numbers and dividing by the count.\n",
        "\n",
        "It avoids using any built-in library functions, relying on basic loops and arithmetic.\n",
        "\n",
        "The function handles empty lists by raising a ValueError to ensure valid input.\n",
        "\n",
        "It is efficient and straightforward, iterating through the list only once to calculate the mean."
      ],
      "metadata": {
        "id": "fyqVv7c0XUEO"
      }
    },
    {
      "cell_type": "markdown",
      "source": [
        "MEDIAN"
      ],
      "metadata": {
        "id": "UfjFzvgvXbhu"
      }
    },
    {
      "cell_type": "code",
      "source": [
        "def calculate_median(numbers):\n",
        "    if not numbers:\n",
        "        raise ValueError(\"The list of numbers cannot be empty.\")\n",
        "    for i in range(len(numbers)):\n",
        "        for j in range(i + 1, len(numbers)):\n",
        "            if numbers[i] > numbers[j]:\n",
        "                numbers[i], numbers[j] = numbers[j], numbers[i]\n",
        "    n = len(numbers)\n",
        "    if n % 2 == 1:\n",
        "        return numbers[n // 2]\n",
        "    else:\n",
        "        mid1, mid2 = numbers[(n // 2) - 1], numbers[n // 2]\n",
        "        return (mid1 + mid2) / 2\n",
        "\n",
        "numbers = [50, 30, 20, 10, 40]\n",
        "median = calculate_median(numbers)\n",
        "print(f\"The median of the numbers {numbers} is: {median}\")"
      ],
      "metadata": {
        "colab": {
          "base_uri": "https://localhost:8080/"
        },
        "id": "3eoCNG-KWZgr",
        "outputId": "d330c2ca-283b-4d41-8466-eda143e464c8"
      },
      "execution_count": null,
      "outputs": [
        {
          "output_type": "stream",
          "name": "stdout",
          "text": [
            "The median of the numbers [10, 20, 30, 40, 50] is: 30\n"
          ]
        }
      ]
    },
    {
      "cell_type": "markdown",
      "source": [
        "OBSERVATION: The median is the middle value of a sorted list, showing the dataset's central point.\n",
        "\n",
        "Sorting the list is essential to determine the correct median.\n",
        "\n",
        "The function works for both odd and even-length lists by handling them differently.\n",
        "\n",
        "Median is less affected by extreme values compared to the mean."
      ],
      "metadata": {
        "id": "VK_c1RYDXhpf"
      }
    },
    {
      "cell_type": "markdown",
      "source": [
        "VARIANCE"
      ],
      "metadata": {
        "id": "ZFs8e-DEXk_9"
      }
    },
    {
      "cell_type": "code",
      "source": [
        "def calculate_variance(numbers):\n",
        "    if not numbers:\n",
        "        raise ValueError(\"The list of numbers cannot be empty.\")\n",
        "    total_sum = 0\n",
        "    count = 0\n",
        "    for num in numbers:\n",
        "        total_sum += num\n",
        "        count += 1\n",
        "    mean = total_sum / count\n",
        "    squared_diff_sum = 0\n",
        "    for num in numbers:\n",
        "        squared_diff_sum += (num - mean) ** 2\n",
        "    variance = squared_diff_sum / count\n",
        "    return variance\n",
        "numbers = [10, 20, 30, 40, 50]\n",
        "variance = calculate_variance(numbers)\n",
        "print(f\"The variance of the numbers {numbers} is: {variance}\")\n"
      ],
      "metadata": {
        "colab": {
          "base_uri": "https://localhost:8080/"
        },
        "id": "Z7sKXzc7WZcx",
        "outputId": "acc770d8-07d7-4ffe-bfb5-5a6d3f8c9fee"
      },
      "execution_count": null,
      "outputs": [
        {
          "output_type": "stream",
          "name": "stdout",
          "text": [
            "The variance of the numbers [10, 20, 30, 40, 50] is: 200.0\n"
          ]
        }
      ]
    },
    {
      "cell_type": "markdown",
      "source": [
        "OBSERVATION: The variance measures the spread of numbers in a dataset, showing how far values deviate from the mean.\n",
        "\n",
        "The function calculates variance by finding the mean and the average squared differences from the mean.\n",
        "\n",
        "Variance increases when the dataset has numbers farther from the mean, indicating more variability.\n",
        "\n",
        "The function works for all valid lists and raises an error for an empty list to ensure input correctness."
      ],
      "metadata": {
        "id": "_ktb3voJX7Dd"
      }
    },
    {
      "cell_type": "code",
      "source": [
        "STANDARD DEVIATION"
      ],
      "metadata": {
        "id": "jcrmarCJYEaF"
      },
      "execution_count": null,
      "outputs": []
    },
    {
      "cell_type": "markdown",
      "source": [],
      "metadata": {
        "id": "CqXVMlVMX95N"
      }
    },
    {
      "cell_type": "code",
      "source": [
        "def calculate_standard_deviation(numbers):\n",
        "    if not numbers:\n",
        "        raise ValueError(\"The list of numbers cannot be empty.\")\n",
        "    total_sum = 0\n",
        "    count = 0\n",
        "    for num in numbers:\n",
        "        total_sum += num\n",
        "        count += 1\n",
        "    mean = total_sum / count\n",
        "    squared_diff_sum = 0\n",
        "    for num in numbers:\n",
        "        squared_diff_sum += (num - mean) ** 2\n",
        "    variance = squared_diff_sum / count\n",
        "    standard_deviation = variance ** 0.5\n",
        "    return standard_deviation\n",
        "numbers = [10, 20, 30, 40, 50]\n",
        "standard_deviation = calculate_standard_deviation(numbers)\n",
        "print(f\"The standard deviation of the numbers {numbers} is: {standard_deviation}\")"
      ],
      "metadata": {
        "id": "_CiympqAWZQa"
      },
      "execution_count": null,
      "outputs": []
    },
    {
      "cell_type": "markdown",
      "source": [
        "OBSERVATION: Variance shows data spread: It measures how far each number is from the mean.\n",
        "\n",
        "Mean is calculated first: Variance depends on the mean to determine deviations. Squared differences: Squaring the differences ensures larger deviations are more impactful.\n",
        "\n",
        "Variance gives consistency: A higher variance means greater spread in the data.\n",
        "\n",
        "Input validation: The program checks for non-empty lists before calculating variance.\n",
        "\n"
      ],
      "metadata": {
        "id": "zxTMeFbkYIkc"
      }
    },
    {
      "cell_type": "markdown",
      "source": [
        "MODE"
      ],
      "metadata": {
        "id": "8wF3NUbbYPD9"
      }
    },
    {
      "cell_type": "code",
      "source": [
        "def calculate_mode(numbers):\n",
        "    if not numbers:\n",
        "        raise ValueError(\"The list of numbers cannot be empty.\")\n",
        "\n",
        "    frequency = {}\n",
        "    for num in numbers:\n",
        "        if num in frequency:\n",
        "            frequency[num] += 1\n",
        "        else:\n",
        "            frequency[num] = 1\n",
        "\n",
        "    mode = max(frequency.values())\n",
        "\n",
        "\n",
        "    return mode\n",
        "\n",
        "# Example usage:\n",
        "numbers = [1, 2, 3, 3, 4, 5, 6, 3]\n",
        "mode = calculate_mode(numbers)\n",
        "print(f\"The mode of the numbers {numbers} is: {mode}\")"
      ],
      "metadata": {
        "colab": {
          "base_uri": "https://localhost:8080/"
        },
        "id": "yU1D2L2vWZCT",
        "outputId": "d1b080cf-9ded-458e-a1e0-cb8074615745"
      },
      "execution_count": null,
      "outputs": [
        {
          "output_type": "stream",
          "name": "stdout",
          "text": [
            "The mode of the numbers [1, 2, 3, 3, 4, 5, 6, 3] is: 3\n"
          ]
        }
      ]
    },
    {
      "cell_type": "markdown",
      "source": [
        "OBSERVATION: List Comprehension: The line creates a new list by checking conditions in a single line.\n",
        "\n",
        "Filters by Frequency: It picks only the numbers that appear the most times.\n",
        "\n",
        "Efficient Lookup: It uses frequency.items() to easily access both the number and its count.\n",
        "\n",
        "Multiple Modes: It handles multiple modes by adding all numbers with the highest frequency.\n",
        "\n"
      ],
      "metadata": {
        "id": "bikNzggCYW91"
      }
    },
    {
      "cell_type": "markdown",
      "source": [
        "SKEWNESS"
      ],
      "metadata": {
        "id": "TwXPNe4eW24K"
      }
    },
    {
      "cell_type": "code",
      "source": [
        "def calculate_skewness(column):\n",
        "    mean = sum(column) / len(column)\n",
        "\n",
        "    variance_sum = sum((x - mean) ** 2 for x in column)\n",
        "    variance = variance_sum / len(column)\n",
        "    std_dev = variance ** 0.5\n",
        "\n",
        "    skewness_sum = sum(((x - mean) / std_dev) ** 3 for x in column)\n",
        "    skewness = skewness_sum * (len(column) / ((len(column) - 1) * (len(column) - 2)))\n",
        "\n",
        "    return skewness\n",
        "\n",
        "for column_name in data.columns:\n",
        "    if column_name != 'target':\n",
        "        skewness_value = calculate_skewness(data[column_name])\n",
        "        print(f\"Skewness of {column_name}: {skewness_value}\")\n"
      ],
      "metadata": {
        "colab": {
          "base_uri": "https://localhost:8080/"
        },
        "id": "nA96ala8Wyan",
        "outputId": "de1a4b06-aca1-4b31-f70a-35cbce573858"
      },
      "execution_count": null,
      "outputs": [
        {
          "output_type": "stream",
          "name": "stdout",
          "text": [
            "Skewness of sepal length (cm): 0.3180865144341371\n",
            "Skewness of sepal width (cm): 0.3374212446671282\n",
            "Skewness of petal length (cm): -0.2772319462571204\n",
            "Skewness of petal width (cm): -0.10605534604657992\n"
          ]
        }
      ]
    },
    {
      "cell_type": "markdown",
      "source": [
        "OBSERVATION: Symmetry: If the data is symmetric, the skewness will be close to 0. This means the data is evenly spread around the mean, like in the dataset.\n",
        "\n",
        "Three Data Points: Skewness needs at least three data points to work properly. With fewer than three, you can't calculate it meaningfully because there isn't enough data to observe any \"tilt\" or spread.\n",
        "\n",
        "Output is 0: If the skewness is 0, it means the data is balanced on both sides of the mean"
      ],
      "metadata": {
        "id": "8TnFe0N3Yl0h"
      }
    },
    {
      "cell_type": "markdown",
      "source": [
        "KURTOSIS"
      ],
      "metadata": {
        "id": "eeg5VZhUYp9Q"
      }
    },
    {
      "cell_type": "code",
      "source": [
        "def calculate_kurtosis(column):\n",
        "    mean = sum(column) / len(column)\n",
        "\n",
        "\n",
        "    variance_sum = sum((x - mean) ** 2 for x in column)\n",
        "    variance = variance_sum / len(column)\n",
        "    std_dev = variance ** 0.5\n",
        "\n",
        "\n",
        "    fourth_moment_sum = sum(((x - mean) / std_dev) ** 4 for x in column)\n",
        "\n",
        "\n",
        "    n = len(column)\n",
        "    kurtosis = (n * (n + 1) * fourth_moment_sum) / ((n - 1) * (n - 2) * (n - 3)) - (3 * (n - 1) ** 2) / ((n - 2) * (n - 3))\n",
        "\n",
        "    return kurtosis\n",
        "\n",
        "\n",
        "for column_name in data.columns:\n",
        "    if column_name != 'target':\n",
        "        kurtosis_value = calculate_kurtosis(data[column_name])\n",
        "        print(f\"Kurtosis of {column_name}: {kurtosis_value}\")\n"
      ],
      "metadata": {
        "colab": {
          "base_uri": "https://localhost:8080/"
        },
        "id": "kiVtDIOUWyW_",
        "outputId": "242c0687-4349-43ff-eeca-3b178b14d45a"
      },
      "execution_count": null,
      "outputs": [
        {
          "output_type": "stream",
          "name": "stdout",
          "text": [
            "Kurtosis of sepal length (cm): -0.5182691580175414\n",
            "Kurtosis of sepal width (cm): 0.33592726704547804\n",
            "Kurtosis of petal length (cm): -1.3795716707385708\n",
            "Kurtosis of petal width (cm): -1.316567789657256\n"
          ]
        }
      ]
    },
    {
      "cell_type": "markdown",
      "source": [
        "OBSERVATION: Purpose: Kurtosis tells us how the data behaves in the extreme ends (tails). It shows if there are outliers or if the data is concentrated around the average.\n",
        "\n",
        "Kurtosis Values: Positive: The data has heavy tails (more outliers). Negative: The data has light tails (fewer outliers). *Zero: *The data is normally distributed, like a bell curve.\n",
        "\n",
        "Why the Fourth Power: By raising deviations to the fourth power, we give more weight to outliers, making them affect the kurtosis more.\n",
        "\n",
        "Comparison with Skewness: While skewness checks symmetry, kurtosis checks how extreme the data points are."
      ],
      "metadata": {
        "id": "c41ZEv6tY29W"
      }
    },
    {
      "cell_type": "markdown",
      "source": [
        "Choose a dataset of your choice. Provide a brief description of the dataset, including the number of observations, variables (both categorical and numerical), and the context of the data."
      ],
      "metadata": {
        "id": "j0wZ_N9Y4GXQ"
      }
    },
    {
      "cell_type": "markdown",
      "source": [
        "**Description**\n",
        "\n",
        "The dataset contains information about global suicide rates, collected and aggregated from various sources such as the World Health Organization (WHO) and national statistical agencies. It aims to provide insights into suicide trends across different countries and demographics."
      ],
      "metadata": {
        "id": "9Y6jN8Hw5k4d"
      }
    },
    {
      "cell_type": "code",
      "execution_count": null,
      "metadata": {
        "colab": {
          "base_uri": "https://localhost:8080/",
          "height": 417
        },
        "id": "e5vn7W9T3BWG",
        "outputId": "16af1bb8-e753-4a08-92c6-5f03e8a33e7f"
      },
      "outputs": [
        {
          "output_type": "execute_result",
          "data": {
            "text/plain": [
              "   country  year     sex          age  suicides_no  population  \\\n",
              "0  Albania  1987    male  15-24 years           21      312900   \n",
              "1  Albania  1987    male  35-54 years           16      308000   \n",
              "2  Albania  1987  female  15-24 years           14      289700   \n",
              "3  Albania  1987    male    75+ years            1       21800   \n",
              "4  Albania  1987    male  25-34 years            9      274300   \n",
              "\n",
              "   suicides/100k pop country-year  HDI for year  gdp_for_year ($)   \\\n",
              "0               6.71  Albania1987           NaN      2,156,624,900   \n",
              "1               5.19  Albania1987           NaN      2,156,624,900   \n",
              "2               4.83  Albania1987           NaN      2,156,624,900   \n",
              "3               4.59  Albania1987           NaN      2,156,624,900   \n",
              "4               3.28  Albania1987           NaN      2,156,624,900   \n",
              "\n",
              "   gdp_per_capita ($)       generation  \n",
              "0                 796     Generation X  \n",
              "1                 796           Silent  \n",
              "2                 796     Generation X  \n",
              "3                 796  G.I. Generation  \n",
              "4                 796          Boomers  "
            ],
            "text/html": [
              "\n",
              "  <div id=\"df-dcdaa1f6-9235-440e-9f7e-7a4dda81e109\" class=\"colab-df-container\">\n",
              "    <div>\n",
              "<style scoped>\n",
              "    .dataframe tbody tr th:only-of-type {\n",
              "        vertical-align: middle;\n",
              "    }\n",
              "\n",
              "    .dataframe tbody tr th {\n",
              "        vertical-align: top;\n",
              "    }\n",
              "\n",
              "    .dataframe thead th {\n",
              "        text-align: right;\n",
              "    }\n",
              "</style>\n",
              "<table border=\"1\" class=\"dataframe\">\n",
              "  <thead>\n",
              "    <tr style=\"text-align: right;\">\n",
              "      <th></th>\n",
              "      <th>country</th>\n",
              "      <th>year</th>\n",
              "      <th>sex</th>\n",
              "      <th>age</th>\n",
              "      <th>suicides_no</th>\n",
              "      <th>population</th>\n",
              "      <th>suicides/100k pop</th>\n",
              "      <th>country-year</th>\n",
              "      <th>HDI for year</th>\n",
              "      <th>gdp_for_year ($)</th>\n",
              "      <th>gdp_per_capita ($)</th>\n",
              "      <th>generation</th>\n",
              "    </tr>\n",
              "  </thead>\n",
              "  <tbody>\n",
              "    <tr>\n",
              "      <th>0</th>\n",
              "      <td>Albania</td>\n",
              "      <td>1987</td>\n",
              "      <td>male</td>\n",
              "      <td>15-24 years</td>\n",
              "      <td>21</td>\n",
              "      <td>312900</td>\n",
              "      <td>6.71</td>\n",
              "      <td>Albania1987</td>\n",
              "      <td>NaN</td>\n",
              "      <td>2,156,624,900</td>\n",
              "      <td>796</td>\n",
              "      <td>Generation X</td>\n",
              "    </tr>\n",
              "    <tr>\n",
              "      <th>1</th>\n",
              "      <td>Albania</td>\n",
              "      <td>1987</td>\n",
              "      <td>male</td>\n",
              "      <td>35-54 years</td>\n",
              "      <td>16</td>\n",
              "      <td>308000</td>\n",
              "      <td>5.19</td>\n",
              "      <td>Albania1987</td>\n",
              "      <td>NaN</td>\n",
              "      <td>2,156,624,900</td>\n",
              "      <td>796</td>\n",
              "      <td>Silent</td>\n",
              "    </tr>\n",
              "    <tr>\n",
              "      <th>2</th>\n",
              "      <td>Albania</td>\n",
              "      <td>1987</td>\n",
              "      <td>female</td>\n",
              "      <td>15-24 years</td>\n",
              "      <td>14</td>\n",
              "      <td>289700</td>\n",
              "      <td>4.83</td>\n",
              "      <td>Albania1987</td>\n",
              "      <td>NaN</td>\n",
              "      <td>2,156,624,900</td>\n",
              "      <td>796</td>\n",
              "      <td>Generation X</td>\n",
              "    </tr>\n",
              "    <tr>\n",
              "      <th>3</th>\n",
              "      <td>Albania</td>\n",
              "      <td>1987</td>\n",
              "      <td>male</td>\n",
              "      <td>75+ years</td>\n",
              "      <td>1</td>\n",
              "      <td>21800</td>\n",
              "      <td>4.59</td>\n",
              "      <td>Albania1987</td>\n",
              "      <td>NaN</td>\n",
              "      <td>2,156,624,900</td>\n",
              "      <td>796</td>\n",
              "      <td>G.I. Generation</td>\n",
              "    </tr>\n",
              "    <tr>\n",
              "      <th>4</th>\n",
              "      <td>Albania</td>\n",
              "      <td>1987</td>\n",
              "      <td>male</td>\n",
              "      <td>25-34 years</td>\n",
              "      <td>9</td>\n",
              "      <td>274300</td>\n",
              "      <td>3.28</td>\n",
              "      <td>Albania1987</td>\n",
              "      <td>NaN</td>\n",
              "      <td>2,156,624,900</td>\n",
              "      <td>796</td>\n",
              "      <td>Boomers</td>\n",
              "    </tr>\n",
              "  </tbody>\n",
              "</table>\n",
              "</div>\n",
              "    <div class=\"colab-df-buttons\">\n",
              "\n",
              "  <div class=\"colab-df-container\">\n",
              "    <button class=\"colab-df-convert\" onclick=\"convertToInteractive('df-dcdaa1f6-9235-440e-9f7e-7a4dda81e109')\"\n",
              "            title=\"Convert this dataframe to an interactive table.\"\n",
              "            style=\"display:none;\">\n",
              "\n",
              "  <svg xmlns=\"http://www.w3.org/2000/svg\" height=\"24px\" viewBox=\"0 -960 960 960\">\n",
              "    <path d=\"M120-120v-720h720v720H120Zm60-500h600v-160H180v160Zm220 220h160v-160H400v160Zm0 220h160v-160H400v160ZM180-400h160v-160H180v160Zm440 0h160v-160H620v160ZM180-180h160v-160H180v160Zm440 0h160v-160H620v160Z\"/>\n",
              "  </svg>\n",
              "    </button>\n",
              "\n",
              "  <style>\n",
              "    .colab-df-container {\n",
              "      display:flex;\n",
              "      gap: 12px;\n",
              "    }\n",
              "\n",
              "    .colab-df-convert {\n",
              "      background-color: #E8F0FE;\n",
              "      border: none;\n",
              "      border-radius: 50%;\n",
              "      cursor: pointer;\n",
              "      display: none;\n",
              "      fill: #1967D2;\n",
              "      height: 32px;\n",
              "      padding: 0 0 0 0;\n",
              "      width: 32px;\n",
              "    }\n",
              "\n",
              "    .colab-df-convert:hover {\n",
              "      background-color: #E2EBFA;\n",
              "      box-shadow: 0px 1px 2px rgba(60, 64, 67, 0.3), 0px 1px 3px 1px rgba(60, 64, 67, 0.15);\n",
              "      fill: #174EA6;\n",
              "    }\n",
              "\n",
              "    .colab-df-buttons div {\n",
              "      margin-bottom: 4px;\n",
              "    }\n",
              "\n",
              "    [theme=dark] .colab-df-convert {\n",
              "      background-color: #3B4455;\n",
              "      fill: #D2E3FC;\n",
              "    }\n",
              "\n",
              "    [theme=dark] .colab-df-convert:hover {\n",
              "      background-color: #434B5C;\n",
              "      box-shadow: 0px 1px 3px 1px rgba(0, 0, 0, 0.15);\n",
              "      filter: drop-shadow(0px 1px 2px rgba(0, 0, 0, 0.3));\n",
              "      fill: #FFFFFF;\n",
              "    }\n",
              "  </style>\n",
              "\n",
              "    <script>\n",
              "      const buttonEl =\n",
              "        document.querySelector('#df-dcdaa1f6-9235-440e-9f7e-7a4dda81e109 button.colab-df-convert');\n",
              "      buttonEl.style.display =\n",
              "        google.colab.kernel.accessAllowed ? 'block' : 'none';\n",
              "\n",
              "      async function convertToInteractive(key) {\n",
              "        const element = document.querySelector('#df-dcdaa1f6-9235-440e-9f7e-7a4dda81e109');\n",
              "        const dataTable =\n",
              "          await google.colab.kernel.invokeFunction('convertToInteractive',\n",
              "                                                    [key], {});\n",
              "        if (!dataTable) return;\n",
              "\n",
              "        const docLinkHtml = 'Like what you see? Visit the ' +\n",
              "          '<a target=\"_blank\" href=https://colab.research.google.com/notebooks/data_table.ipynb>data table notebook</a>'\n",
              "          + ' to learn more about interactive tables.';\n",
              "        element.innerHTML = '';\n",
              "        dataTable['output_type'] = 'display_data';\n",
              "        await google.colab.output.renderOutput(dataTable, element);\n",
              "        const docLink = document.createElement('div');\n",
              "        docLink.innerHTML = docLinkHtml;\n",
              "        element.appendChild(docLink);\n",
              "      }\n",
              "    </script>\n",
              "  </div>\n",
              "\n",
              "\n",
              "<div id=\"df-e6cb40db-eed0-4ba5-9c60-c60118c7b0f4\">\n",
              "  <button class=\"colab-df-quickchart\" onclick=\"quickchart('df-e6cb40db-eed0-4ba5-9c60-c60118c7b0f4')\"\n",
              "            title=\"Suggest charts\"\n",
              "            style=\"display:none;\">\n",
              "\n",
              "<svg xmlns=\"http://www.w3.org/2000/svg\" height=\"24px\"viewBox=\"0 0 24 24\"\n",
              "     width=\"24px\">\n",
              "    <g>\n",
              "        <path d=\"M19 3H5c-1.1 0-2 .9-2 2v14c0 1.1.9 2 2 2h14c1.1 0 2-.9 2-2V5c0-1.1-.9-2-2-2zM9 17H7v-7h2v7zm4 0h-2V7h2v10zm4 0h-2v-4h2v4z\"/>\n",
              "    </g>\n",
              "</svg>\n",
              "  </button>\n",
              "\n",
              "<style>\n",
              "  .colab-df-quickchart {\n",
              "      --bg-color: #E8F0FE;\n",
              "      --fill-color: #1967D2;\n",
              "      --hover-bg-color: #E2EBFA;\n",
              "      --hover-fill-color: #174EA6;\n",
              "      --disabled-fill-color: #AAA;\n",
              "      --disabled-bg-color: #DDD;\n",
              "  }\n",
              "\n",
              "  [theme=dark] .colab-df-quickchart {\n",
              "      --bg-color: #3B4455;\n",
              "      --fill-color: #D2E3FC;\n",
              "      --hover-bg-color: #434B5C;\n",
              "      --hover-fill-color: #FFFFFF;\n",
              "      --disabled-bg-color: #3B4455;\n",
              "      --disabled-fill-color: #666;\n",
              "  }\n",
              "\n",
              "  .colab-df-quickchart {\n",
              "    background-color: var(--bg-color);\n",
              "    border: none;\n",
              "    border-radius: 50%;\n",
              "    cursor: pointer;\n",
              "    display: none;\n",
              "    fill: var(--fill-color);\n",
              "    height: 32px;\n",
              "    padding: 0;\n",
              "    width: 32px;\n",
              "  }\n",
              "\n",
              "  .colab-df-quickchart:hover {\n",
              "    background-color: var(--hover-bg-color);\n",
              "    box-shadow: 0 1px 2px rgba(60, 64, 67, 0.3), 0 1px 3px 1px rgba(60, 64, 67, 0.15);\n",
              "    fill: var(--button-hover-fill-color);\n",
              "  }\n",
              "\n",
              "  .colab-df-quickchart-complete:disabled,\n",
              "  .colab-df-quickchart-complete:disabled:hover {\n",
              "    background-color: var(--disabled-bg-color);\n",
              "    fill: var(--disabled-fill-color);\n",
              "    box-shadow: none;\n",
              "  }\n",
              "\n",
              "  .colab-df-spinner {\n",
              "    border: 2px solid var(--fill-color);\n",
              "    border-color: transparent;\n",
              "    border-bottom-color: var(--fill-color);\n",
              "    animation:\n",
              "      spin 1s steps(1) infinite;\n",
              "  }\n",
              "\n",
              "  @keyframes spin {\n",
              "    0% {\n",
              "      border-color: transparent;\n",
              "      border-bottom-color: var(--fill-color);\n",
              "      border-left-color: var(--fill-color);\n",
              "    }\n",
              "    20% {\n",
              "      border-color: transparent;\n",
              "      border-left-color: var(--fill-color);\n",
              "      border-top-color: var(--fill-color);\n",
              "    }\n",
              "    30% {\n",
              "      border-color: transparent;\n",
              "      border-left-color: var(--fill-color);\n",
              "      border-top-color: var(--fill-color);\n",
              "      border-right-color: var(--fill-color);\n",
              "    }\n",
              "    40% {\n",
              "      border-color: transparent;\n",
              "      border-right-color: var(--fill-color);\n",
              "      border-top-color: var(--fill-color);\n",
              "    }\n",
              "    60% {\n",
              "      border-color: transparent;\n",
              "      border-right-color: var(--fill-color);\n",
              "    }\n",
              "    80% {\n",
              "      border-color: transparent;\n",
              "      border-right-color: var(--fill-color);\n",
              "      border-bottom-color: var(--fill-color);\n",
              "    }\n",
              "    90% {\n",
              "      border-color: transparent;\n",
              "      border-bottom-color: var(--fill-color);\n",
              "    }\n",
              "  }\n",
              "</style>\n",
              "\n",
              "  <script>\n",
              "    async function quickchart(key) {\n",
              "      const quickchartButtonEl =\n",
              "        document.querySelector('#' + key + ' button');\n",
              "      quickchartButtonEl.disabled = true;  // To prevent multiple clicks.\n",
              "      quickchartButtonEl.classList.add('colab-df-spinner');\n",
              "      try {\n",
              "        const charts = await google.colab.kernel.invokeFunction(\n",
              "            'suggestCharts', [key], {});\n",
              "      } catch (error) {\n",
              "        console.error('Error during call to suggestCharts:', error);\n",
              "      }\n",
              "      quickchartButtonEl.classList.remove('colab-df-spinner');\n",
              "      quickchartButtonEl.classList.add('colab-df-quickchart-complete');\n",
              "    }\n",
              "    (() => {\n",
              "      let quickchartButtonEl =\n",
              "        document.querySelector('#df-e6cb40db-eed0-4ba5-9c60-c60118c7b0f4 button');\n",
              "      quickchartButtonEl.style.display =\n",
              "        google.colab.kernel.accessAllowed ? 'block' : 'none';\n",
              "    })();\n",
              "  </script>\n",
              "</div>\n",
              "\n",
              "    </div>\n",
              "  </div>\n"
            ],
            "application/vnd.google.colaboratory.intrinsic+json": {
              "type": "dataframe",
              "variable_name": "df",
              "summary": "{\n  \"name\": \"df\",\n  \"rows\": 27820,\n  \"fields\": [\n    {\n      \"column\": \"country\",\n      \"properties\": {\n        \"dtype\": \"category\",\n        \"num_unique_values\": 101,\n        \"samples\": [\n          \"Slovenia\",\n          \"Maldives\",\n          \"Panama\"\n        ],\n        \"semantic_type\": \"\",\n        \"description\": \"\"\n      }\n    },\n    {\n      \"column\": \"year\",\n      \"properties\": {\n        \"dtype\": \"number\",\n        \"std\": 8,\n        \"min\": 1985,\n        \"max\": 2016,\n        \"num_unique_values\": 32,\n        \"samples\": [\n          2015,\n          2004,\n          1990\n        ],\n        \"semantic_type\": \"\",\n        \"description\": \"\"\n      }\n    },\n    {\n      \"column\": \"sex\",\n      \"properties\": {\n        \"dtype\": \"category\",\n        \"num_unique_values\": 2,\n        \"samples\": [\n          \"female\",\n          \"male\"\n        ],\n        \"semantic_type\": \"\",\n        \"description\": \"\"\n      }\n    },\n    {\n      \"column\": \"age\",\n      \"properties\": {\n        \"dtype\": \"category\",\n        \"num_unique_values\": 6,\n        \"samples\": [\n          \"15-24 years\",\n          \"35-54 years\"\n        ],\n        \"semantic_type\": \"\",\n        \"description\": \"\"\n      }\n    },\n    {\n      \"column\": \"suicides_no\",\n      \"properties\": {\n        \"dtype\": \"number\",\n        \"std\": 902,\n        \"min\": 0,\n        \"max\": 22338,\n        \"num_unique_values\": 2084,\n        \"samples\": [\n          5102,\n          1041\n        ],\n        \"semantic_type\": \"\",\n        \"description\": \"\"\n      }\n    },\n    {\n      \"column\": \"population\",\n      \"properties\": {\n        \"dtype\": \"number\",\n        \"std\": 3911779,\n        \"min\": 278,\n        \"max\": 43805214,\n        \"num_unique_values\": 25564,\n        \"samples\": [\n          5085130,\n          22983\n        ],\n        \"semantic_type\": \"\",\n        \"description\": \"\"\n      }\n    },\n    {\n      \"column\": \"suicides/100k pop\",\n      \"properties\": {\n        \"dtype\": \"number\",\n        \"std\": 18.96151101450304,\n        \"min\": 0.0,\n        \"max\": 224.97,\n        \"num_unique_values\": 5298,\n        \"samples\": [\n          55.07,\n          20.37\n        ],\n        \"semantic_type\": \"\",\n        \"description\": \"\"\n      }\n    },\n    {\n      \"column\": \"country-year\",\n      \"properties\": {\n        \"dtype\": \"category\",\n        \"num_unique_values\": 2321,\n        \"samples\": [\n          \"Republic of Korea1999\",\n          \"Kyrgyzstan1998\"\n        ],\n        \"semantic_type\": \"\",\n        \"description\": \"\"\n      }\n    },\n    {\n      \"column\": \"HDI for year\",\n      \"properties\": {\n        \"dtype\": \"number\",\n        \"std\": 0.09336670859029965,\n        \"min\": 0.483,\n        \"max\": 0.944,\n        \"num_unique_values\": 305,\n        \"samples\": [\n          0.739,\n          0.658\n        ],\n        \"semantic_type\": \"\",\n        \"description\": \"\"\n      }\n    },\n    {\n      \"column\": \" gdp_for_year ($) \",\n      \"properties\": {\n        \"dtype\": \"category\",\n        \"num_unique_values\": 2321,\n        \"samples\": [\n          \"485,248,229,337\",\n          \"1,645,963,750\"\n        ],\n        \"semantic_type\": \"\",\n        \"description\": \"\"\n      }\n    },\n    {\n      \"column\": \"gdp_per_capita ($)\",\n      \"properties\": {\n        \"dtype\": \"number\",\n        \"std\": 18887,\n        \"min\": 251,\n        \"max\": 126352,\n        \"num_unique_values\": 2233,\n        \"samples\": [\n          20536,\n          38218\n        ],\n        \"semantic_type\": \"\",\n        \"description\": \"\"\n      }\n    },\n    {\n      \"column\": \"generation\",\n      \"properties\": {\n        \"dtype\": \"category\",\n        \"num_unique_values\": 6,\n        \"samples\": [\n          \"Generation X\",\n          \"Silent\"\n        ],\n        \"semantic_type\": \"\",\n        \"description\": \"\"\n      }\n    }\n  ]\n}"
            }
          },
          "metadata": {},
          "execution_count": 53
        }
      ],
      "source": [
        "import pandas as pd\n",
        "import numpy as np\n",
        "import matplotlib.pyplot as plt\n",
        "import seaborn as sns\n",
        "df=pd.read_csv(\"master.csv.zip\")\n",
        "df.head()"
      ]
    },
    {
      "cell_type": "code",
      "source": [
        "\n",
        "print(\"\\nDataset Info:\")\n",
        "df.info()\n",
        "print(\"\\nSummary Statistics:\")\n",
        "print(df.describe())\n",
        "print(\"\\nMissing Values:\")\n",
        "print(df.isnull().sum())"
      ],
      "metadata": {
        "colab": {
          "base_uri": "https://localhost:8080/"
        },
        "id": "2BkkEWYr5OL2",
        "outputId": "be2bbcdc-b250-4b7a-c78b-e423b1bef0db"
      },
      "execution_count": null,
      "outputs": [
        {
          "output_type": "stream",
          "name": "stdout",
          "text": [
            "\n",
            "Dataset Info:\n",
            "<class 'pandas.core.frame.DataFrame'>\n",
            "RangeIndex: 27820 entries, 0 to 27819\n",
            "Data columns (total 12 columns):\n",
            " #   Column              Non-Null Count  Dtype  \n",
            "---  ------              --------------  -----  \n",
            " 0   country             27820 non-null  object \n",
            " 1   year                27820 non-null  int64  \n",
            " 2   sex                 27820 non-null  object \n",
            " 3   age                 27820 non-null  object \n",
            " 4   suicides_no         27820 non-null  int64  \n",
            " 5   population          27820 non-null  int64  \n",
            " 6   suicides/100k pop   27820 non-null  float64\n",
            " 7   country-year        27820 non-null  object \n",
            " 8   HDI for year        8364 non-null   float64\n",
            " 9    gdp_for_year ($)   27820 non-null  object \n",
            " 10  gdp_per_capita ($)  27820 non-null  int64  \n",
            " 11  generation          27820 non-null  object \n",
            "dtypes: float64(2), int64(4), object(6)\n",
            "memory usage: 2.5+ MB\n",
            "\n",
            "Summary Statistics:\n",
            "               year   suicides_no    population  suicides/100k pop  \\\n",
            "count  27820.000000  27820.000000  2.782000e+04       27820.000000   \n",
            "mean    2001.258375    242.574407  1.844794e+06          12.816097   \n",
            "std        8.469055    902.047917  3.911779e+06          18.961511   \n",
            "min     1985.000000      0.000000  2.780000e+02           0.000000   \n",
            "25%     1995.000000      3.000000  9.749850e+04           0.920000   \n",
            "50%     2002.000000     25.000000  4.301500e+05           5.990000   \n",
            "75%     2008.000000    131.000000  1.486143e+06          16.620000   \n",
            "max     2016.000000  22338.000000  4.380521e+07         224.970000   \n",
            "\n",
            "       HDI for year  gdp_per_capita ($)  \n",
            "count   8364.000000        27820.000000  \n",
            "mean       0.776601        16866.464414  \n",
            "std        0.093367        18887.576472  \n",
            "min        0.483000          251.000000  \n",
            "25%        0.713000         3447.000000  \n",
            "50%        0.779000         9372.000000  \n",
            "75%        0.855000        24874.000000  \n",
            "max        0.944000       126352.000000  \n",
            "\n",
            "Missing Values:\n",
            "country                   0\n",
            "year                      0\n",
            "sex                       0\n",
            "age                       0\n",
            "suicides_no               0\n",
            "population                0\n",
            "suicides/100k pop         0\n",
            "country-year              0\n",
            "HDI for year          19456\n",
            " gdp_for_year ($)         0\n",
            "gdp_per_capita ($)        0\n",
            "generation                0\n",
            "dtype: int64\n"
          ]
        }
      ]
    },
    {
      "cell_type": "code",
      "source": [
        "no_of_obs=df.shape[0]\n",
        "no_of_vars=df.shape[1]\n",
        "print(\"Number of observations:\",no_of_obs)\n",
        "print(\"Number of variables:\",no_of_vars)\n",
        "\n",
        "cat_variable=df.select_dtypes(include=['object']).columns\n",
        "num_varibale=df.select_dtypes(exclude=['object']).columns\n",
        "print(\"Categorical variables:\",cat_variable)\n",
        "print(\"Numerical variables:\",num_varibale)"
      ],
      "metadata": {
        "colab": {
          "base_uri": "https://localhost:8080/"
        },
        "id": "aTfZlFOI6Kpk",
        "outputId": "3b030a23-62b9-410e-a0cc-d7adc92dda90"
      },
      "execution_count": null,
      "outputs": [
        {
          "output_type": "stream",
          "name": "stdout",
          "text": [
            "Number of observations: 27820\n",
            "Number of variables: 12\n",
            "Categorical variables: Index(['country', 'sex', 'age', 'country-year', ' gdp_for_year ($) ',\n",
            "       'generation'],\n",
            "      dtype='object')\n",
            "Numerical variables: Index(['year', 'suicides_no', 'population', 'suicides/100k pop',\n",
            "       'HDI for year', 'gdp_per_capita ($)'],\n",
            "      dtype='object')\n"
          ]
        }
      ]
    },
    {
      "cell_type": "markdown",
      "source": [
        "**context of the data:**\n",
        "The dataset is about suicide numbers around the world.\n",
        "\n",
        "It has information on how many people died by suicide in different countries, for different genders, age groups, and years. It also has info about things like a country's wealth and development, to see if those things are related to suicide rates.\n",
        "\n",
        "Basically, it's trying to understand why and where suicide happens, using data from trusted sources."
      ],
      "metadata": {
        "id": "ES8MXqLL9mXN"
      }
    },
    {
      "cell_type": "code",
      "source": [
        "import pandas as pd\n",
        "import numpy as np\n",
        "\n",
        "df = df.dropna(subset=['HDI for year'])\n",
        "df = pd.DataFrame(df)\n",
        "\n",
        "def calculate_skewness(column):\n",
        "    mean = column.mean()\n",
        "    std_dev = column.std()\n",
        "    n = len(column)\n",
        "    skewness = (sum((x - mean)**3 for x in column) / n) / (std_dev**3)\n",
        "    return skewness\n",
        "\n",
        "numerical_columns = df.select_dtypes(include=[np.number]).columns\n",
        "\n",
        "for col in numerical_columns:\n",
        "    skew = calculate_skewness(df[col])\n",
        "    print(f\"Skewness of {col}: {skew:.3f}\")\n",
        "    if skew > 0:\n",
        "        print(f\"The data in {col} is positively skewed.\")\n",
        "    elif skew < 0:\n",
        "        print(f\"The data in {col} is negatively skewed.\")\n",
        "    else:\n",
        "        print(f\"The data in {col} is symmetrical.\")\n",
        "    print(\"-\" * 40)"
      ],
      "metadata": {
        "colab": {
          "base_uri": "https://localhost:8080/"
        },
        "id": "Rh5F5ejiBOQt",
        "outputId": "945c1cbd-5fe4-4b6e-b7c6-ce703bd3eda3"
      },
      "execution_count": null,
      "outputs": [
        {
          "output_type": "stream",
          "name": "stdout",
          "text": [
            "Skewness of year: -0.936\n",
            "The data in year is negatively skewed.\n",
            "----------------------------------------\n",
            "Skewness of suicides_no: 8.478\n",
            "The data in suicides_no is positively skewed.\n",
            "----------------------------------------\n",
            "Skewness of population: 4.727\n",
            "The data in population is positively skewed.\n",
            "----------------------------------------\n",
            "Skewness of suicides/100k pop: 2.904\n",
            "The data in suicides/100k pop is positively skewed.\n",
            "----------------------------------------\n",
            "Skewness of HDI for year: -0.301\n",
            "The data in HDI for year is negatively skewed.\n",
            "----------------------------------------\n",
            "Skewness of gdp_per_capita ($): 1.764\n",
            "The data in gdp_per_capita ($) is positively skewed.\n",
            "----------------------------------------\n"
          ]
        }
      ]
    },
    {
      "cell_type": "code",
      "source": [
        "import pandas as pd\n",
        "import matplotlib.pyplot as plt\n",
        "import seaborn as sns\n",
        "numerical_columns = df.select_dtypes(include=['number']).columns\n",
        "fig, axes = plt.subplots(len(numerical_columns)//2, 2, figsize=(10, 6))\n",
        "\n",
        "axes = axes.flatten()\n",
        "\n",
        "for i, col in enumerate(numerical_columns):\n",
        "    sns.kdeplot(df[col], shade=True, color='skyblue', ax=axes[i])\n",
        "    axes[i].set_title(f'KDE of {col}')\n",
        "    axes[i].set_xlabel(col)\n",
        "    axes[i].set_ylabel('Density')\n",
        "\n",
        "# Adjust layout\n",
        "plt.tight_layout()\n",
        "plt.show()\n"
      ],
      "metadata": {
        "colab": {
          "base_uri": "https://localhost:8080/",
          "height": 1000
        },
        "id": "QOKIIsJUDXgv",
        "outputId": "3e62e299-c50c-4504-9e25-f69abb3b4e18"
      },
      "execution_count": null,
      "outputs": [
        {
          "output_type": "stream",
          "name": "stderr",
          "text": [
            "<ipython-input-23-2c32eaeafb87>:10: FutureWarning: \n",
            "\n",
            "`shade` is now deprecated in favor of `fill`; setting `fill=True`.\n",
            "This will become an error in seaborn v0.14.0; please update your code.\n",
            "\n",
            "  sns.kdeplot(df[col], shade=True, color='skyblue', ax=axes[i])\n",
            "<ipython-input-23-2c32eaeafb87>:10: FutureWarning: \n",
            "\n",
            "`shade` is now deprecated in favor of `fill`; setting `fill=True`.\n",
            "This will become an error in seaborn v0.14.0; please update your code.\n",
            "\n",
            "  sns.kdeplot(df[col], shade=True, color='skyblue', ax=axes[i])\n",
            "<ipython-input-23-2c32eaeafb87>:10: FutureWarning: \n",
            "\n",
            "`shade` is now deprecated in favor of `fill`; setting `fill=True`.\n",
            "This will become an error in seaborn v0.14.0; please update your code.\n",
            "\n",
            "  sns.kdeplot(df[col], shade=True, color='skyblue', ax=axes[i])\n",
            "<ipython-input-23-2c32eaeafb87>:10: FutureWarning: \n",
            "\n",
            "`shade` is now deprecated in favor of `fill`; setting `fill=True`.\n",
            "This will become an error in seaborn v0.14.0; please update your code.\n",
            "\n",
            "  sns.kdeplot(df[col], shade=True, color='skyblue', ax=axes[i])\n",
            "<ipython-input-23-2c32eaeafb87>:10: FutureWarning: \n",
            "\n",
            "`shade` is now deprecated in favor of `fill`; setting `fill=True`.\n",
            "This will become an error in seaborn v0.14.0; please update your code.\n",
            "\n",
            "  sns.kdeplot(df[col], shade=True, color='skyblue', ax=axes[i])\n",
            "<ipython-input-23-2c32eaeafb87>:10: FutureWarning: \n",
            "\n",
            "`shade` is now deprecated in favor of `fill`; setting `fill=True`.\n",
            "This will become an error in seaborn v0.14.0; please update your code.\n",
            "\n",
            "  sns.kdeplot(df[col], shade=True, color='skyblue', ax=axes[i])\n"
          ]
        },
        {
          "output_type": "display_data",
          "data": {
            "text/plain": [
              "<Figure size 1000x600 with 6 Axes>"
            ],
            "image/png": "[encoded data removed]"
          },
          "metadata": {}
        }
      ]
    },
    {
      "cell_type": "markdown",
      "source": [
        "**Mean**: The mean of the suicides_no column is calculated using .mean().\n",
        "**Median:** The median of the suicides_no column is calculated using .median().\n",
        "**Mode**: The mode is calculated using .mode(). Since .mode() returns a series, we use .iloc[0] to get the first mode value (if there are multiple modes)."
      ],
      "metadata": {
        "id": "bKQ6WnhjNDBX"
      }
    },
    {
      "cell_type": "code",
      "source": [
        "central_tendency = pd.DataFrame({\n",
        "    'Mean': [df['suicides_no'].mean()],\n",
        "    'Median': [df['suicides_no'].median()],\n",
        "    'Mode': [df['suicides_no'].mode().iloc[0]]\n",
        "})\n",
        "print(central_tendency)"
      ],
      "metadata": {
        "colab": {
          "base_uri": "https://localhost:8080/"
        },
        "id": "CHoU0wOaETbu",
        "outputId": "3f560eb0-70aa-419a-f12a-09db5ee9fb30"
      },
      "execution_count": null,
      "outputs": [
        {
          "output_type": "stream",
          "name": "stdout",
          "text": [
            "    Mean  Median  Mode\n",
            "0  720.0   700.0   500\n"
          ]
        }
      ]
    },
    {
      "cell_type": "markdown",
      "source": [
        "**Compare and contrast the values of the mean, median, and mode. **\n",
        "\n",
        "**Mean vs. Median:** Since the mean (720) is a bit higher than the median (700), this suggests the data is slightly skewed to the right.\n",
        "\n",
        "The mode (500) is lower than both the mean and median, which means most of the values are around 500. However, a few higher values (like 800 or 1000) are making the average (mean) higher.\n",
        "\n",
        " ** What does this suggest about the distribution of the data?**\n",
        "\n",
        "the data is skewed to the right. Most of the values are clustered around the lower numbers (like 500), but there are a few higher values (like 800 or 1000) that are pulling the average (mean) upwards. This is a typical sign of positive skewness in the data.\n",
        "\n",
        "\n",
        "\n",
        "\n",
        "\n"
      ],
      "metadata": {
        "id": "FhrdcJkuNeAa"
      }
    },
    {
      "cell_type": "markdown",
      "source": [],
      "metadata": {
        "id": "DVojEOIgNAw8"
      }
    },
    {
      "cell_type": "code",
      "source": [
        "range_value = df['gdp_for_year ($)'].max() - df['gdp_for_year ($)'].min()\n",
        "variance_value = df['gdp_for_year ($)'].var()\n",
        "std_deviation_value = df['gdp_for_year ($)'].std()\n",
        "\n",
        "print(f\"Range: {range_value}\")\n",
        "print(f\"Variance: {variance_value}\")\n",
        "print(f\"Standard Deviation: {std_deviation_value}\")"
      ],
      "metadata": {
        "colab": {
          "base_uri": "https://localhost:8080/"
        },
        "id": "7VWZFI01PHr3",
        "outputId": "c454a7b2-3fcd-4d53-b8de-335a0949f642"
      },
      "execution_count": null,
      "outputs": [
        {
          "output_type": "stream",
          "name": "stdout",
          "text": [
            "Range: 30000000000\n",
            "Variance: 1.45e+20\n",
            "Standard Deviation: 12041594578.792295\n"
          ]
        }
      ]
    },
    {
      "cell_type": "markdown",
      "source": [
        "** What do these values tell you about the spread of the data?**\n",
        "\n",
        "The data has a large spread with significant variability between values. This suggests that the GDP values in the dataset vary greatly from one another, and there are likely outliers or large differences between some countries' GDPs.\n",
        "\n",
        "**Interpret the standard deviation in the context of the dataset.**\n",
        "\n",
        "A higher standard deviation means that the GDP values are spread out more widely from the average. In this case, the GDPs of different countries in the dataset vary significantly from each other.\n",
        "So, if you were to pick a random country’s GDP from this dataset, you could expect its GDP to differ from the average GDP by approximately 12 billion dollars either higher or lower"
      ],
      "metadata": {
        "id": "I54UPO2CPecX"
      }
    },
    {
      "cell_type": "code",
      "source": [
        "from scipy.stats import skew, kurtosis\n",
        "suicides_no = df['suicides_no']\n",
        "\n",
        "# Calculate Skewness\n",
        "skewness_value = skew(suicides_no)\n",
        "\n",
        "# Calculate Kurtosis\n",
        "kurtosis_value = kurtosis(suicides_no)\n",
        "\n",
        "# Print the results\n",
        "print(f\"Skewness: {skewness_value}\")\n",
        "print(f\"Kurtosis: {kurtosis_value}\")"
      ],
      "metadata": {
        "colab": {
          "base_uri": "https://localhost:8080/"
        },
        "id": "5FbMi8kMHY2n",
        "outputId": "5f8357e1-d9b2-42a7-d900-69c36e93802f"
      },
      "execution_count": null,
      "outputs": [
        {
          "output_type": "stream",
          "name": "stdout",
          "text": [
            "Skewness: 0.39587033734381705\n",
            "Kurtosis: -1.0054784514243973\n"
          ]
        }
      ]
    },
    {
      "cell_type": "markdown",
      "source": [
        "Since the skewness is positive (0.396), this suggests that the distribution of the suicides_no data is slightly right-skewed\n",
        "\n",
        "The kurtosis value is negative (-1.005), which indicates that the distribution is platykurtic. This means that the distribution has lighter tails than a normal distribution.\n",
        "\n"
      ],
      "metadata": {
        "id": "dPOE-FjGQRaN"
      }
    },
    {
      "cell_type": "code",
      "source": [
        "import matplotlib.pyplot as plt\n",
        "import seaborn as sns\n",
        "\n",
        "\n",
        "gdp_for_year = df['gdp_for_year ($)']\n",
        "\n",
        "plt.figure(figsize=(8, 6))\n",
        "sns.histplot(gdp_for_year, bins=5, kde=True)\n",
        "plt.title('Histogram of GDP for Year')\n",
        "plt.xlabel('GDP for Year ($)')\n",
        "plt.ylabel('Frequency')\n",
        "plt.show()\n",
        "\n",
        "\n",
        "\n",
        "plt.figure(figsize=(8, 6))\n",
        "sns.boxplot(x=gdp_for_year)\n",
        "plt.title('Boxplot of GDP for Year')\n",
        "plt.xlabel('GDP for Year ($)')\n",
        "plt.show()"
      ],
      "metadata": {
        "colab": {
          "base_uri": "https://localhost:8080/",
          "height": 1000
        },
        "id": "xz8wZJNpJIFj",
        "outputId": "f30a5694-7f7c-43c2-a298-309b222a00ea"
      },
      "execution_count": null,
      "outputs": [
        {
          "output_type": "display_data",
          "data": {
            "text/plain": [
              "<Figure size 800x600 with 1 Axes>"
            ],
            "image/png": "[encoded data removed]"
          },
          "metadata": {}
        },
        {
          "output_type": "display_data",
          "data": {
            "text/plain": [
              "<Figure size 800x600 with 1 Axes>"
            ],
            "image/png": "[encoded data removed]"
          },
          "metadata": {}
        }
      ]
    },
    {
      "cell_type": "markdown",
      "source": [
        "The histogram shows how GDP values are spread across countries. If it’s right-skewed, it means most countries have low GDP, but a few have very high GDP. If it’s symmetric, the GDP values are more similar across countries.\n",
        "\n",
        "The KDE curve smooths the histogram and helps us see the distribution more clearly, showing if the data is skewed or has multiple peaks.\n",
        "\n",
        "\n",
        "The box represents the range between Q1 and Q3, with the line inside the box being the median (Q2).\n",
        "The whiskers show the spread of the data within 1.5 times the IQR.\n",
        "Outliers: Points outside the whiskers are potential outliers, which are values that are significantly different from the rest of the data\n",
        "\n"
      ],
      "metadata": {
        "id": "dcncHrUqRK6V"
      }
    },
    {
      "cell_type": "code",
      "source": [
        "suicides_no = df['suicides_no']\n",
        "Q1 = suicides_no.quantile(0.25)\n",
        "median = suicides_no.quantile(0.5)\n",
        "Q3 = suicides_no.quantile(0.75)\n",
        "IQR = Q3 - Q1\n",
        "lower_bound = Q1 - 1.5 * IQR\n",
        "upper_bound = Q3 + 1.5 * IQR\n",
        "# Output the results\n",
        "print(f\"25th Percentile (Q1): {Q1}\")\n",
        "print(f\"50th Percentile (Median): {median}\")\n",
        "print(f\"75th Percentile (Q3): {Q3}\")\n",
        "print(f\"Interquartile Range (IQR): {IQR}\")\n",
        "print(f\"Lower Bound for Outliers: {lower_bound}\")\n",
        "print(f\"Upper Bound for Outliers: {upper_bound}\")\n",
        "outliers = suicides_no[(suicides_no < lower_bound) | (suicides_no > upper_bound)]\n",
        "print(f\"Outliers: {outliers}\")"
      ],
      "metadata": {
        "colab": {
          "base_uri": "https://localhost:8080/"
        },
        "id": "-vuqND4VJZ3q",
        "outputId": "fcfdab26-2dc3-440d-8d5b-ddb5365fc51b"
      },
      "execution_count": null,
      "outputs": [
        {
          "output_type": "stream",
          "name": "stdout",
          "text": [
            "25th Percentile (Q1): 600.0\n",
            "50th Percentile (Median): 700.0\n",
            "75th Percentile (Q3): 800.0\n",
            "Interquartile Range (IQR): 200.0\n",
            "Lower Bound for Outliers: 300.0\n",
            "Upper Bound for Outliers: 1100.0\n",
            "Outliers: Series([], Name: suicides_no, dtype: int64)\n"
          ]
        }
      ]
    },
    {
      "cell_type": "markdown",
      "source": [
        "If the IQR is large, the data is more spread out, indicating a greater variety in values.\n",
        "If the IQR is small, the data is clustered closer together, showing less variation.\n",
        "The quartiles help us see where most of the data lies, and the IQR helps us understand how wide or narrow the distribution is."
      ],
      "metadata": {
        "id": "i-eVP7ioSidF"
      }
    },
    {
      "cell_type": "markdown",
      "source": [
        "Choose two numerical variables and calculate the Pearson correlation coefficient between them. What does the correlation coefficient indicate about the relationship between the two variables?\n",
        "Visualize the relationship between the two variables using a scatter plot. How does the plot align with the correlation coefficient?"
      ],
      "metadata": {
        "id": "xE5w0qDHZn6R"
      }
    },
    {
      "cell_type": "code",
      "source": [
        "correlation = df['gdp_per_capita ($)'].corr(df['suicides/100k pop'])\n",
        "\n",
        "\n",
        "print(f\"Pearson correlation coefficient: {correlation}\")\n",
        "plt.scatter(df['gdp_per_capita ($)'], df['suicides/100k pop'])\n",
        "plt.xlabel('GDP per Capita ($)')\n",
        "plt.ylabel('Suicides per 100k Population')\n",
        "plt.title('Scatter Plot: GDP per Capita vs Suicides per 100k Population')\n",
        "plt.show()"
      ],
      "metadata": {
        "colab": {
          "base_uri": "https://localhost:8080/",
          "height": 489
        },
        "id": "DLizwkH3Z5l8",
        "outputId": "050908b4-2710-4738-ea97-5e6d5e18674a"
      },
      "execution_count": null,
      "outputs": [
        {
          "output_type": "stream",
          "name": "stdout",
          "text": [
            "Pearson correlation coefficient: 0.0017851337973441694\n"
          ]
        },
        {
          "output_type": "display_data",
          "data": {
            "text/plain": [
              "<Figure size 640x480 with 1 Axes>"
            ],
            "image/png": "[encoded data removed]"
          },
          "metadata": {}
        }
      ]
    },
    {
      "cell_type": "markdown",
      "source": [
        "It calculates a number called the \"correlation coefficient.\" This number tells us if the two things (GDP and suicide rates) tend to move together.\n",
        "If the number is positive, it means that as a country gets richer, suicide rates also tend to go up.\n",
        "If the number is negative, it means that as a country gets richer, suicide rates tend to go down.\n",
        "If the number is close to zero, it means there's not much of a connection between the two."
      ],
      "metadata": {
        "id": "Tbd8RlugdQpx"
      }
    },
    {
      "cell_type": "code",
      "source": [
        "frequency = df['generation'].value_counts()\n",
        "\n",
        "relative_frequency = df['generation'].value_counts(normalize=True)\n",
        "\n",
        "\n",
        "percentage = relative_frequency * 100\n",
        "\n",
        "\n",
        "summary = pd.DataFrame({\n",
        "    'Frequency': frequency,\n",
        "    'Relative Frequency': relative_frequency,\n",
        "    'Percentage': percentage\n",
        "})\n",
        "\n",
        "print(summary)"
      ],
      "metadata": {
        "colab": {
          "base_uri": "https://localhost:8080/"
        },
        "id": "v2bexeNwaijQ",
        "outputId": "5a30703c-725a-41d1-9b77-e15b86eb296b"
      },
      "execution_count": null,
      "outputs": [
        {
          "output_type": "stream",
          "name": "stdout",
          "text": [
            "                 Frequency  Relative Frequency  Percentage\n",
            "generation                                                \n",
            "Generation X          6408            0.230338   23.033789\n",
            "Silent                6364            0.228756   22.875629\n",
            "Millenials            5844            0.210065   21.006470\n",
            "Boomers               4990            0.179367   17.936736\n",
            "G.I. Generation       2744            0.098634    9.863408\n",
            "Generation Z          1470            0.052840    5.283968\n"
          ]
        }
      ]
    },
    {
      "cell_type": "markdown",
      "source": [
        "OBSERVATION: The frequency shows how many individuals belong to each generation.\n",
        "\n",
        "The relative frequency provides a proportion of each generation in relation to the total number of individuals in the dataset.\n",
        "\n",
        "The percentage gives a more intuitive sense of the distribution, making it easier to compare and interpret.\n",
        "\n",
        "These statistics help us understand that Generation X and Silent generations dominate the dataset, while younger generations like Generation Z have much fewer observations."
      ],
      "metadata": {
        "id": "xvHxLAmtazZe"
      }
    },
    {
      "cell_type": "markdown",
      "source": [
        "Outliers Detection:\n",
        "\n",
        "Identify outliers in the dataset using the box plot or the IQR method. How would you define an outlier based on the IQR method (e.g., 1.5 * IQR above Q3 or below Q1)?\n",
        "Discuss how the outliers affect the summary statistics, particularly the mean and standard deviation."
      ],
      "metadata": {
        "id": "ibNqSLpya2AL"
      }
    },
    {
      "cell_type": "code",
      "source": [
        "\n",
        "\n",
        "import pandas as pd\n",
        "import matplotlib.pyplot as plt\n",
        "\n",
        "# Assuming 'df' is your DataFrame\n",
        "numerical_columns = df.select_dtypes(include=['number']).columns\n",
        "\n",
        "for column_name in numerical_columns:\n",
        "Q1 = df[column_name].quantile(0.25)\n",
        "Q3 = df[column_name].quantile(0.75)\n",
        "IQR = Q3 - Q1\n",
        "\n",
        "lower_bound = Q1 - 1.5 * IQR\n",
        "upper_bound = Q3 + 1.5 * IQR\n",
        "\n",
        "outliers = df[(df[column_name] < lower_bound) | (df[column_name] > upper_bound)]\n",
        "\n",
        "print(f\"Outliers in '{column_name}':\")\n",
        "print(outliers)\n",
        "\n",
        "import matplotlib.pyplot as plt\n",
        "plt.boxplot(df[column_name])\n",
        "plt.title(f'Box Plot of {column_name}')\n",
        "plt.show()\n"
      ],
      "metadata": {
        "colab": {
          "base_uri": "https://localhost:8080/",
          "height": 211
        },
        "id": "OCRmxuGPa5sW",
        "outputId": "d4e1501a-268a-4300-e5ca-9a525b0ec564"
      },
      "execution_count": null,
      "outputs": [
        {
          "output_type": "error",
          "ename": "NameError",
          "evalue": "name 'df' is not defined",
          "traceback": [
            "\u001b[0;31m---------------------------------------------------------------------------\u001b[0m",
            "\u001b[0;31mNameError\u001b[0m                                 Traceback (most recent call last)",
            "\u001b[0;32m<ipython-input-2-97d4b7829732>\u001b[0m in \u001b[0;36m<cell line: 0>\u001b[0;34m()\u001b[0m\n\u001b[1;32m      3\u001b[0m \u001b[0;34m\u001b[0m\u001b[0m\n\u001b[1;32m      4\u001b[0m \u001b[0;31m# Assuming 'df' is your DataFrame\u001b[0m\u001b[0;34m\u001b[0m\u001b[0;34m\u001b[0m\u001b[0m\n\u001b[0;32m----> 5\u001b[0;31m \u001b[0mnumerical_columns\u001b[0m \u001b[0;34m=\u001b[0m \u001b[0mdf\u001b[0m\u001b[0;34m.\u001b[0m\u001b[0mselect_dtypes\u001b[0m\u001b[0;34m(\u001b[0m\u001b[0minclude\u001b[0m\u001b[0;34m=\u001b[0m\u001b[0;34m[\u001b[0m\u001b[0;34m'number'\u001b[0m\u001b[0;34m]\u001b[0m\u001b[0;34m)\u001b[0m\u001b[0;34m.\u001b[0m\u001b[0mcolumns\u001b[0m\u001b[0;34m\u001b[0m\u001b[0;34m\u001b[0m\u001b[0m\n\u001b[0m\u001b[1;32m      6\u001b[0m \u001b[0;34m\u001b[0m\u001b[0m\n\u001b[1;32m      7\u001b[0m \u001b[0;32mfor\u001b[0m \u001b[0mcolumn_name\u001b[0m \u001b[0;32min\u001b[0m \u001b[0mnumerical_columns\u001b[0m\u001b[0;34m:\u001b[0m\u001b[0;34m\u001b[0m\u001b[0;34m\u001b[0m\u001b[0m\n",
            "\u001b[0;31mNameError\u001b[0m: name 'df' is not defined"
          ]
        }
      ]
    },
    {
      "cell_type": "markdown",
      "source": [
        "OBSERVATION: Outliers can make the mean and standard deviation less reliable. For example, if there are very high or low values in the data, they can pull the mean away from the middle of the data.\n",
        "\n",
        "The code helps detect and visualize outliers in the data.\n",
        "\n",
        "Outliers are considered any data points that are either below Q1 - 1.5 * IQR or above Q3 + 1.5 * IQR."
      ],
      "metadata": {
        "id": "QDipDIfqbCV-"
      }
    },
    {
      "cell_type": "markdown",
      "source": [
        "For one categorical variable, compute the frequency distribution and present the results in a table.\n",
        "Calculate the relative frequency and percentage of each category. How do these statistics help in understanding the distribution of the categorical data?"
      ],
      "metadata": {
        "id": "iXsKRJDsaNzk"
      }
    },
    {
      "cell_type": "markdown",
      "source": [
        "**Measures of Central Tendency**:\n",
        "When the mean is much higher than the median, it suggests a positively skewed distribution, meaning there are a few extremely high values pulling the average up.\n",
        "If the mean and median are close, the distribution is likely more symmetric.\n",
        "A mode much lower or higher than the median suggests a skewed distribution with frequent occurrences at the mode\n",
        "\n"
      ],
      "metadata": {
        "id": "Foz04J4UTmwO"
      }
    },
    {
      "cell_type": "markdown",
      "source": [
        "** Measures of Dispersion:** A large range and high variance/standard deviation indicate significant variation in the dataset, meaning values are spread out. A small standard deviation suggests that most data points are close to the mean"
      ],
      "metadata": {
        "id": "ky3O4F36Ud-t"
      }
    },
    {
      "cell_type": "markdown",
      "source": [
        "**Shape of the Distribution**\n",
        "The suicides_no and gdp_for_year ($) data could have slight positive skew, indicating a few extreme high values.\n",
        "\n",
        "Negative kurtosis (platykurtic) suggests that the distribution is flatter than a normal distribution, with fewer extreme outliers.\n"
      ],
      "metadata": {
        "id": "D_61z4iBUvB7"
      }
    },
    {
      "cell_type": "markdown",
      "source": [
        "**Provide a brief conclusion on what insights can be drawn from the descriptive statistics and how they may guide further analysis or decision-making.**\n",
        "\n",
        "Central Tendency:\n",
        "\n",
        "The mean, median, and mode show us the typical values (like average GDP or suicide rates).\n",
        "Comparing them tells us if the data is balanced or if it's influenced by extreme values.\n",
        "Dispersion:\n",
        "\n",
        "Range, variance, and standard deviation show how spread out the data is.\n",
        "A high standard deviation means big differences between countries, helping with economic decisions.\n",
        "The variation in suicide rates can help target where help is most needed.\n",
        "Shape of the Distribution:\n",
        "\n",
        "Skewness and kurtosis show if the data is uneven or has extreme values.\n",
        "Outliers point out unusual cases that may need closer look.\n",
        "Interquartile Range (IQR):\n",
        "\n",
        "The IQR tells us about the middle 50% of the data, helping us focus on the usual cases and ignore the outliers.\n",
        "\n",
        "\n",
        "\n",
        "\n",
        "\n",
        "\n"
      ],
      "metadata": {
        "id": "LfQZUIEYVEMT"
      }
    },
    {
      "cell_type": "markdown",
      "source": [
        "The dataset contains a variety of distributions: some variables are symmetric, while others are skewed. The spread of values varies, with some columns showing greater dispersion (e.g., GDP), and others having more concentrated values (e.g., suicides).\n",
        "\n",
        "\n"
      ],
      "metadata": {
        "id": "mjhWLVbIVYkS"
      }
    },
    {
      "cell_type": "markdown",
      "source": [
        "Insights for Further Analysis:\n",
        "Identifying Trends:\n",
        "\n",
        "We can look at how variables like suicide rates or GDP change over time, helping to spot any patterns or trends.\n",
        "Targeted Interventions:\n",
        "\n",
        "By identifying countries or regions with extreme values (outliers), we can focus efforts on where help is needed the most, such as for health or economic support.\n",
        "Data Cleaning:\n",
        "\n",
        "Extreme values or unusual patterns in the data (like skewness) might need to be checked and fixed to ensure the data is accurate for further analysis."
      ],
      "metadata": {
        "id": "YaMgsjn-Vt0s"
      }
    },
    {
      "cell_type": "code",
      "source": [],
      "metadata": {
        "id": "U2fBTO1DVMUr"
      },
      "execution_count": null,
      "outputs": []
    }
  ]
}